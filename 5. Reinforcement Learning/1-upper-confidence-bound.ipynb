{
 "cells": [
  {
   "cell_type": "code",
   "execution_count": 35,
   "metadata": {},
   "outputs": [],
   "source": [
    "import numpy as np\n",
    "import pandas as pd\n",
    "import matplotlib.pyplot as plt"
   ]
  },
  {
   "cell_type": "code",
   "execution_count": 36,
   "metadata": {},
   "outputs": [
    {
     "name": "stdout",
     "output_type": "stream",
     "text": [
      "Ad 1 Selected 4 times\n",
      "Ad 2 Selected 46 times\n",
      "Ad 3 Selected 28 times\n",
      "Ad 4 Selected 56 times\n",
      "Ad 5 Selected 9040 times\n",
      "Ad 6 Selected 34 times\n",
      "Ad 7 Selected 114 times\n",
      "Ad 8 Selected 511 times\n",
      "Ad 9 Selected 104 times\n",
      "Ad 10 Selected 63 times\n"
     ]
    },
    {
     "data": {
      "image/png": "[encoded data removed]",
      "text/plain": [
       "<Figure size 432x288 with 1 Axes>"
      ]
     },
     "metadata": {
      "needs_background": "light"
     },
     "output_type": "display_data"
    }
   ],
   "source": [
    "df = pd.read_csv('Ads_CTR_Optimisation.csv')\n",
    "# CTR adalah Click Through Rate\n",
    "# setiap row menunjukkan user ke-i dan kolom menunjukkan iklan ke-j (terdapat 10000 user dan 10 iklan)\n",
    "# df[i][j] = 1 jika user ke-i mengklik iklan ke-j\n",
    "# df[i][j] = 0 jika user ke-i tidak mengklik iklan ke-j\n",
    "# dalam setiap sequence ke-i, mesin akan mendapatkan outcome user ke-i\n",
    "\n",
    "# Implementing UCB\n",
    "D = 10 # Total possible distribution (ads)\n",
    "T = 10000 # Total rounds (users)\n",
    "R = [0] * D # Total reward for each distribution\n",
    "N = [0] * D # Total number of selection for each distribution\n",
    "\n",
    "for t in range(D) :\n",
    "    R[t] = df.values[0, t]\n",
    "    N[t] = 1\n",
    "\n",
    "for t in range(10,T):\n",
    "    # variable calculation\n",
    "    r_bar = [R[t]/N[t] for t in range(D)]\n",
    "    delta = [np.sqrt(3/2 * np.log(t+1)/N[t]) for t in range(D)]\n",
    "    upper_bound = [r_bar[t] + delta[t] for t in range(D)]\n",
    "\n",
    "    # distribution selection\n",
    "    select = np.argmax(upper_bound)\n",
    "    R[select] += df.values[t, select]\n",
    "    N[select] += 1\n",
    "\n",
    "[print(\"Ad\", i+1, \"Selected\", N[i], \"times\") for i in range(len(N))]\n",
    "\n",
    "# Visualising the results\n",
    "plt.bar(range(D), N, color='blue')\n",
    "plt.title('Number of selection for each distribution')\n",
    "plt.xlabel('Number of rounds selected')\n",
    "plt.ylabel('Ads no.')\n",
    "plt.show()\n"
   ]
  }
 ],
 "metadata": {
  "kernelspec": {
   "display_name": "base",
   "language": "python",
   "name": "python3"
  },
  "language_info": {
   "codemirror_mode": {
    "name": "ipython",
    "version": 3
   },
   "file_extension": ".py",
   "mimetype": "text/x-python",
   "name": "python",
   "nbconvert_exporter": "python",
   "pygments_lexer": "ipython3",
   "version": "3.8.8"
  },
  "orig_nbformat": 4
 },
 "nbformat": 4,
 "nbformat_minor": 2
}
