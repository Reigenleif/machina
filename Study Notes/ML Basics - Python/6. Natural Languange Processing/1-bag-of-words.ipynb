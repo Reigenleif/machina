{
 "cells": [
  {
   "cell_type": "code",
   "execution_count": 22,
   "metadata": {},
   "outputs": [
    {
     "name": "stderr",
     "output_type": "stream",
     "text": [
      "[nltk_data] Downloading package stopwords to\n",
      "[nltk_data]     C:\\Users\\Alif\\AppData\\Roaming\\nltk_data...\n",
      "[nltk_data]   Package stopwords is already up-to-date!\n"
     ]
    }
   ],
   "source": [
    "# Predicting like or dislike based on review\n",
    "\n",
    "# Text Preprocessing\n",
    "# Importing the dataset\n",
    "import pandas as pd\n",
    "dataset = pd.read_csv('Restaurant_Reviews.tsv', delimiter='\\t', quoting=3) # Data dipisah dengan tab, dan ignore double quote\n",
    "\n",
    "# Cleaning the texts\n",
    "import re\n",
    "import nltk\n",
    "nltk.download('stopwords') # Download stopwords, kata-kata yang tidak penting\n",
    "from nltk.corpus import stopwords\n",
    "from nltk.stem.porter import PorterStemmer # Untuk stemming, menghilangkan kata berimbuhan sehingga menjadi kata dasar\n",
    "\n",
    "corpus = [] # Corpus berisi kumpulan teks yang sudah diolah\n",
    "for i in range(0, len(dataset)):\n",
    "    review = re.sub('[^a-zA-Z]', ' ', dataset.loc[i,'Review']) # Menghilangkan semua karakter selain huruf menjadi spasi\n",
    "    review = review.lower() # Mengubah semua huruf menjadi huruf kecil\n",
    "    review = review.split() # Memisahkan kata menjadi array\n",
    "    \n",
    "    ps = PorterStemmer() # Membuat objek PorterStemmer\n",
    "    all_stopwords = stopwords.words('english') # Mengambil stopwords bahasa inggris\n",
    "    all_stopwords.remove('not') # Menghilangkan kata 'not' dari stopwords karena kata 'not' penting untuk review\n",
    "    review = [ps.stem(word) for word in review if not word in set(all_stopwords)] # Menghilangkan kata yang tidak penting\n",
    "    review = ' '.join(review) # Menggabungkan kata menjadi kalimat\n",
    "    corpus.append(review)\n",
    "\n",
    "# Creating the Bag of Words model\n",
    "from sklearn.feature_extraction.text import CountVectorizer\n",
    "cv = CountVectorizer(max_features=1500) # Membatasi jumlah kata yang diambil\n",
    "X = cv.fit_transform(corpus).toarray() # Mengubah corpus menjadi array of features\n",
    "y = dataset.iloc[:, -1].values"
   ]
  },
  {
   "cell_type": "code",
   "execution_count": 23,
   "metadata": {},
   "outputs": [
    {
     "name": "stdout",
     "output_type": "stream",
     "text": [
      "Confusion Matrix:\n",
      "[[54 46]\n",
      " [15 85]]\n",
      "Accuracy Score: 0.695\n"
     ]
    }
   ],
   "source": [
    "# Splitting the dataset into the Training set and Test set\n",
    "from sklearn.model_selection import train_test_split # Menggunakan model_selection karena cross_validation sudah deprecated\n",
    "X_train, X_test, y_train, y_test = train_test_split(X, y, test_size = 0.20, random_state = 2020)\n",
    "\n",
    "# Training the Naive Bayes model on the Training set\n",
    "from sklearn.naive_bayes import GaussianNB # Menggunakan GaussianNB karena y adalah kategorikal\n",
    "classifier = GaussianNB()\n",
    "classifier.fit(X_train, y_train)\n",
    "\n",
    "# Predicting the Test set results\n",
    "y_pred = classifier.predict(X_test)\n",
    "\n",
    "# Confusion Matrix\n",
    "from sklearn.metrics import confusion_matrix, accuracy_score\n",
    "cm = confusion_matrix(y_test, y_pred)\n",
    "print('Confusion Matrix:')\n",
    "print(cm)\n",
    "print('Accuracy Score:', accuracy_score(y_test, y_pred))"
   ]
  }
 ],
 "metadata": {
  "kernelspec": {
   "display_name": "base",
   "language": "python",
   "name": "python3"
  },
  "language_info": {
   "codemirror_mode": {
    "name": "ipython",
    "version": 3
   },
   "file_extension": ".py",
   "mimetype": "text/x-python",
   "name": "python",
   "nbconvert_exporter": "python",
   "pygments_lexer": "ipython3",
   "version": "3.8.8"
  },
  "orig_nbformat": 4
 },
 "nbformat": 4,
 "nbformat_minor": 2
}
