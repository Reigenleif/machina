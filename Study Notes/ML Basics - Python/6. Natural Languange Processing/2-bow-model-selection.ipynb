{
 "cells": [
  {
   "cell_type": "code",
   "execution_count": 1,
   "metadata": {},
   "outputs": [
    {
     "name": "stderr",
     "output_type": "stream",
     "text": [
      "[nltk_data] Downloading package stopwords to\n",
      "[nltk_data]     C:\\Users\\Alif\\AppData\\Roaming\\nltk_data...\n",
      "[nltk_data]   Package stopwords is already up-to-date!\n"
     ]
    }
   ],
   "source": [
    "# Selecting the best classifier for bag of words model\n",
    "\n",
    "# Text Preprocessing\n",
    "# Importing the dataset\n",
    "import pandas as pd\n",
    "dataset = pd.read_csv('Restaurant_Reviews.tsv', delimiter='\\t', quoting=3)\n",
    "\n",
    "# Cleaning the texts\n",
    "import re\n",
    "import nltk\n",
    "nltk.download('stopwords') \n",
    "from nltk.corpus import stopwords\n",
    "from nltk.stem.porter import PorterStemmer\n",
    "\n",
    "corpus = []\n",
    "for i in range(0, len(dataset)):\n",
    "    review = re.sub('[^a-zA-Z]', ' ', dataset.loc[i,'Review']) \n",
    "    review = review.lower() \n",
    "    review = review.split() \n",
    "    \n",
    "    ps = PorterStemmer()\n",
    "    all_stopwords = stopwords.words('english')\n",
    "    all_stopwords.remove('not')\n",
    "    review = [ps.stem(word) for word in review if not word in set(all_stopwords)]\n",
    "    review = ' '.join(review)\n",
    "    corpus.append(review)\n",
    "\n",
    "from sklearn.feature_extraction.text import CountVectorizer\n",
    "cv = CountVectorizer(max_features=1500)\n",
    "X = cv.fit_transform(corpus).toarray()\n",
    "y = dataset.iloc[:, -1].values"
   ]
  },
  {
   "cell_type": "code",
   "execution_count": 2,
   "metadata": {},
   "outputs": [
    {
     "data": {
      "text/plain": [
       "RandomForestClassifier(criterion='entropy', n_estimators=10, random_state=0)"
      ]
     },
     "execution_count": 2,
     "metadata": {},
     "output_type": "execute_result"
    }
   ],
   "source": [
    "# Model Selection\n",
    "\n",
    "from sklearn.model_selection import train_test_split\n",
    "X_train, X_test, y_train, y_test = train_test_split(X, y, test_size = 0.20, random_state = 2020)\n",
    "\n",
    "# Logistic Regression\n",
    "from sklearn.linear_model import LogisticRegression\n",
    "log_classifier = LogisticRegression(random_state=0)\n",
    "log_classifier.fit(X_train, y_train)\n",
    "\n",
    "# Euclidean KNN\n",
    "from sklearn.neighbors import KNeighborsClassifier\n",
    "euc_knn_classifier = KNeighborsClassifier(n_neighbors=5, metric='minkowski', p=2)\n",
    "euc_knn_classifier.fit(X_train, y_train)\n",
    "\n",
    "# Manhattan KNN\n",
    "man_knn_classifier = KNeighborsClassifier(n_neighbors=5, metric='minkowski', p=1)\n",
    "man_knn_classifier.fit(X_train, y_train)\n",
    "\n",
    "# Chebyshev KNN\n",
    "che_knn_classifier = KNeighborsClassifier(n_neighbors=5, metric='minkowski', p=float('inf'))\n",
    "che_knn_classifier.fit(X_train, y_train)\n",
    "\n",
    "# linear SVM\n",
    "from sklearn.svm import SVC\n",
    "lin_svm_classifier = SVC(kernel='linear', random_state=0)\n",
    "lin_svm_classifier.fit(X_train, y_train)\n",
    "\n",
    "# RBF SVM\n",
    "rbf_svm_classifier = SVC(kernel='rbf', random_state=0)\n",
    "rbf_svm_classifier.fit(X_train, y_train)\n",
    "\n",
    "# polynomial SVM\n",
    "poly_svm_classifier = SVC(kernel='poly', random_state=0)\n",
    "poly_svm_classifier.fit(X_train, y_train)\n",
    "\n",
    "# sigmoid SVM\n",
    "sigmoid_svm_classifier = SVC(kernel='sigmoid', random_state=0)\n",
    "sigmoid_svm_classifier.fit(X_train, y_train)\n",
    "\n",
    "# Naive Bayes\n",
    "from sklearn.naive_bayes import GaussianNB\n",
    "nb_classifier = GaussianNB()\n",
    "nb_classifier.fit(X_train, y_train)\n",
    "\n",
    "# Decision Tree\n",
    "from sklearn.tree import DecisionTreeClassifier\n",
    "dt_classifier = DecisionTreeClassifier(criterion='entropy', random_state=0)\n",
    "dt_classifier.fit(X_train, y_train)\n",
    "\n",
    "# Random Forest\n",
    "from sklearn.ensemble import RandomForestClassifier\n",
    "rf_classifier = RandomForestClassifier(n_estimators=10, criterion='entropy', random_state=0)\n",
    "rf_classifier.fit(X_train, y_train)"
   ]
  },
  {
   "cell_type": "code",
   "execution_count": 3,
   "metadata": {},
   "outputs": [
    {
     "name": "stdout",
     "output_type": "stream",
     "text": [
      "Accuracy of the models :\n",
      "Logistic          :  0.785\n",
      "Euclidean KNN     :  0.66\n",
      "Manhattan KNN     :  0.695\n",
      "Chebyshev KNN     :  0.56\n",
      "Linear SVM        :  0.78\n",
      "RBF SVM           :  0.765\n",
      "Polynomial SVM    :  0.665\n",
      "Sigmoid SVM       :  0.755\n",
      "Naive Bayes       :  0.695\n",
      "Decision Tree     :  0.725\n",
      "Random Forest     :  0.71\n"
     ]
    }
   ],
   "source": [
    "# Evaluating Model Performances on the test set\n",
    "\n",
    "log_accuracy = log_classifier.score(X_test, y_test)\n",
    "euc_knn_accuracy = euc_knn_classifier.score(X_test, y_test)\n",
    "man_knn_accuracy = man_knn_classifier.score(X_test, y_test)\n",
    "che_knn_accuracy = che_knn_classifier.score(X_test, y_test)\n",
    "lin_svm_accuracy = lin_svm_classifier.score(X_test, y_test)\n",
    "rbf_svm_accuracy = rbf_svm_classifier.score(X_test, y_test)\n",
    "poly_svm_accuracy = poly_svm_classifier.score(X_test, y_test)\n",
    "sigmoid_svm_accuracy = sigmoid_svm_classifier.score(X_test, y_test)\n",
    "nb_accuracy = nb_classifier.score(X_test, y_test)\n",
    "dt_accuracy = dt_classifier.score(X_test, y_test)\n",
    "rf_accuracy = rf_classifier.score(X_test, y_test)\n",
    "\n",
    "print('Accuracy of the models :')\n",
    "print('Logistic          : ',log_accuracy)\n",
    "print('Euclidean KNN     : ',euc_knn_accuracy)\n",
    "print('Manhattan KNN     : ',man_knn_accuracy)\n",
    "print('Chebyshev KNN     : ',che_knn_accuracy)\n",
    "print('Linear SVM        : ',lin_svm_accuracy)\n",
    "print('RBF SVM           : ',rbf_svm_accuracy)\n",
    "print('Polynomial SVM    : ',poly_svm_accuracy)\n",
    "print('Sigmoid SVM       : ',sigmoid_svm_accuracy)\n",
    "print('Naive Bayes       : ',nb_accuracy)\n",
    "print('Decision Tree     : ',dt_accuracy)\n",
    "print('Random Forest     : ',rf_accuracy)"
   ]
  }
 ],
 "metadata": {
  "kernelspec": {
   "display_name": "base",
   "language": "python",
   "name": "python3"
  },
  "language_info": {
   "codemirror_mode": {
    "name": "ipython",
    "version": 3
   },
   "file_extension": ".py",
   "mimetype": "text/x-python",
   "name": "python",
   "nbconvert_exporter": "python",
   "pygments_lexer": "ipython3",
   "version": "3.8.8"
  },
  "orig_nbformat": 4
 },
 "nbformat": 4,
 "nbformat_minor": 2
}
