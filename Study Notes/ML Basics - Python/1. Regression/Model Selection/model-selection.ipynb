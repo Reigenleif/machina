{
 "cells": [
  {
   "cell_type": "code",
   "execution_count": 66,
   "metadata": {},
   "outputs": [],
   "source": [
    "import numpy as np\n",
    "import pandas as pd\n",
    "import matplotlib.pyplot as plt\n",
    "from sklearn.impute import SimpleImputer\n",
    "from sklearn.compose import ColumnTransformer\n",
    "from sklearn.preprocessing import OneHotEncoder, StandardScaler, LabelEncoder\n",
    "from sklearn.model_selection import train_test_split\n",
    "\n",
    "from sklearn.linear_model import LinearRegression\n",
    "from sklearn.preprocessing import PolynomialFeatures\n",
    "from sklearn.svm import SVR\n",
    "from sklearn.tree import DecisionTreeRegressor\n",
    "from sklearn.ensemble import RandomForestRegressor\n",
    "\n",
    "from sklearn.metrics import r2_score"
   ]
  },
  {
   "cell_type": "code",
   "execution_count": 67,
   "metadata": {},
   "outputs": [],
   "source": [
    "# STEP 1: Data Preprocessing\n",
    "df = pd.read_csv('Data.csv')\n",
    "X = df.iloc[:, :-1].values\n",
    "y = df.iloc[:, -1].values\n",
    "\n",
    "X_train, X_test, y_train, y_test = train_test_split(X, y, test_size=0.2, random_state=0)"
   ]
  },
  {
   "cell_type": "code",
   "execution_count": 68,
   "metadata": {},
   "outputs": [
    {
     "name": "stderr",
     "output_type": "stream",
     "text": [
      "c:\\Users\\Alif\\anaconda3\\lib\\site-packages\\sklearn\\utils\\validation.py:63: DataConversionWarning: A column-vector y was passed when a 1d array was expected. Please change the shape of y to (n_samples, ), for example using ravel().\n",
      "  return f(*args, **kwargs)\n"
     ]
    },
    {
     "data": {
      "text/plain": [
       "RandomForestRegressor(n_estimators=10, random_state=0)"
      ]
     },
     "execution_count": 68,
     "metadata": {},
     "output_type": "execute_result"
    }
   ],
   "source": [
    "# STEP 2: Regression model fitting\n",
    "# Linear Regression\n",
    "lin_reg = LinearRegression()\n",
    "lin_reg.fit(X_train, y_train)\n",
    "\n",
    "# Polynomial Regression\n",
    "poly_reg = PolynomialFeatures(degree=4)\n",
    "X_train_poly = poly_reg.fit_transform(X_train)\n",
    "lin_reg_2 = LinearRegression()\n",
    "lin_reg_2.fit(X_train_poly, y_train)\n",
    "\n",
    "# Support Vector Regression\n",
    "sc_X = StandardScaler()\n",
    "sc_y = StandardScaler()\n",
    "X_train_scaled = sc_X.fit_transform(X_train)\n",
    "y_train_scaled = sc_y.fit_transform(y_train.reshape(-1, 1))\n",
    "svr_reg = SVR(kernel='rbf')\n",
    "svr_reg.fit(X_train_scaled, y_train_scaled)\n",
    "\n",
    "# Decision Tree Regression\n",
    "dt_reg = DecisionTreeRegressor(random_state=0)\n",
    "dt_reg.fit(X_train, y_train)\n",
    "\n",
    "# Random Forest Regression\n",
    "rf_reg = RandomForestRegressor(n_estimators=10, random_state=0)\n",
    "rf_reg.fit(X_train, y_train)\n",
    "\n"
   ]
  },
  {
   "cell_type": "code",
   "execution_count": 69,
   "metadata": {},
   "outputs": [
    {
     "name": "stdout",
     "output_type": "stream",
     "text": [
      "Linear Regression Rsq        : 0.9277253998587902\n",
      "Polynomial Regression Rsq    : 0.9418288594744669\n",
      "Support Vector Regression Rsq: 0.9451810801207933\n",
      "Decision Tree Regression Rsq : 1.0\n",
      "Random Forest Regression Rsq : 0.9920809229378007\n"
     ]
    }
   ],
   "source": [
    "# STEP 3: Performance evaluation on training set\n",
    "# regressor.score(X,y) secara otomatis menghitung Rsq dari y dan y_pred, dimana y_pred = regressor.predict(X) \n",
    "lin_rsq = lin_reg.score(X_train, y_train)\n",
    "poly_rsq = lin_reg_2.score(X_train_poly, y_train)\n",
    "svr_rsq = svr_reg.score(X_train_scaled, y_train_scaled)\n",
    "dt_rsq = dt_reg.score(X_train, y_train)\n",
    "rf_rsq = rf_reg.score(X_train, y_train)\n",
    "\n",
    "print(f'Linear Regression Rsq        : {lin_rsq}')\n",
    "print(f'Polynomial Regression Rsq    : {poly_rsq}')\n",
    "print(f'Support Vector Regression Rsq: {svr_rsq}')\n",
    "print(f'Decision Tree Regression Rsq : {dt_rsq}')\n",
    "print(f'Random Forest Regression Rsq : {rf_rsq}')"
   ]
  },
  {
   "cell_type": "code",
   "execution_count": 70,
   "metadata": {},
   "outputs": [
    {
     "name": "stdout",
     "output_type": "stream",
     "text": [
      "[[431.23 460.01 461.14 ... 473.26 438.   463.28]]\n",
      "Linear Regression Rsq        : 0.9325315554761303\n",
      "Polynomial Regression Rsq    : 0.9458193624590466\n",
      "Support Vector Regression Rsq: 0.948078404998626\n",
      "Decision Tree Regression Rsq : 0.922905874177941\n",
      "Random Forest Regression Rsq : 0.9615908334363876\n"
     ]
    }
   ],
   "source": [
    "# STEP 4: Performance evaluation on test set\n",
    "lin_reg_pred = lin_reg.predict(X_test)\n",
    "poly_reg_pred = lin_reg_2.predict(poly_reg.fit_transform(X_test))\n",
    "svr_reg_pred = sc_y.inverse_transform(svr_reg.predict(sc_X.transform(X_test)))\n",
    "dt_reg_pred = dt_reg.predict(X_test)\n",
    "rf_reg_pred = rf_reg.predict(X_test)\n",
    "\n",
    "lin_rsq_test = lin_reg.score(X_test, y_test)\n",
    "poly_rsq_test = lin_reg_2.score(poly_reg.fit_transform(X_test), y_test)\n",
    "svr_rsq_test = svr_reg.score(sc_X.transform(X_test), sc_y.transform(y_test.reshape(-1, 1)))\n",
    "dt_rsq_test = dt_reg.score(X_test, y_test)\n",
    "rf_rsq_test = rf_reg.score(X_test, y_test)\n",
    "\n",
    "print(f'Linear Regression Rsq        : {lin_rsq_test}')\n",
    "print(f'Polynomial Regression Rsq    : {poly_rsq_test}')\n",
    "print(f'Support Vector Regression Rsq: {svr_rsq_test}')\n",
    "print(f'Decision Tree Regression Rsq : {dt_rsq_test}')\n",
    "print(f'Random Forest Regression Rsq : {rf_rsq_test}')\n"
   ]
  }
 ],
 "metadata": {
  "kernelspec": {
   "display_name": "base",
   "language": "python",
   "name": "python3"
  },
  "language_info": {
   "codemirror_mode": {
    "name": "ipython",
    "version": 3
   },
   "file_extension": ".py",
   "mimetype": "text/x-python",
   "name": "python",
   "nbconvert_exporter": "python",
   "pygments_lexer": "ipython3",
   "version": "3.8.8"
  },
  "orig_nbformat": 4
 },
 "nbformat": 4,
 "nbformat_minor": 2
}
