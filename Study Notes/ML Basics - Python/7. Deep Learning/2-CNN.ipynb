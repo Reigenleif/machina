{
 "cells": [
  {
   "cell_type": "code",
   "execution_count": 1,
   "metadata": {},
   "outputs": [
    {
     "data": {
      "text/plain": [
       "'2.10.0'"
      ]
     },
     "execution_count": 1,
     "metadata": {},
     "output_type": "execute_result"
    }
   ],
   "source": [
    "import tensorflow as tf\n",
    "\n",
    "tf.__version__"
   ]
  },
  {
   "cell_type": "code",
   "execution_count": null,
   "metadata": {},
   "outputs": [],
   "source": [
    "# Deskripsi dataset\n",
    "\n",
    "# Folder dataset berisi 3 subfolder\n",
    "# 1. training_set : berisi 2 subfolder yaitu cats dan dogs, masin-masing berisi 4000 gambar kucing dan anjing\n",
    "# 2. test_set : berisi 2 subfolder yaitu cats dan dogs, masing-masing berisi 1000 gambar kucing dan anjing\n",
    "# 3. testing : berisi 1 gambar kucing dan 1 gambar anjing"
   ]
  },
  {
   "cell_type": "code",
   "execution_count": 4,
   "metadata": {},
   "outputs": [
    {
     "name": "stdout",
     "output_type": "stream",
     "text": [
      "Found 8000 images belonging to 2 classes.\n",
      "Found 2000 images belonging to 2 classes.\n"
     ]
    }
   ],
   "source": [
    "# Step 1 Data Preprocessing / Augmentation\n",
    "\n",
    "# Import Dataset\n",
    "from keras.preprocessing.image import ImageDataGenerator\n",
    "\n",
    "# ImageDataGenerator adalah kelas untuk mengolah data gambar agar dapat digunakan untuk training model\n",
    "train_datagen = ImageDataGenerator(\n",
    "    rescale = 1./255,\n",
    "    shear_range = 0.2,\n",
    "    zoom_range = 0.2,\n",
    "    horizontal_flip = True\n",
    ")\n",
    "\n",
    "# untuk memuat data, digunakan flow_from_directory method dari ImageDataGenerator\n",
    "# method ini akan membaca gambar pada suatu direktory dan mengelompokkan gambar sesuai dengan subfolder\n",
    "training_set = train_datagen.flow_from_directory(\n",
    "    'image_dataset/training_set',\n",
    "    target_size = (64, 64),\n",
    "    batch_size = 32,\n",
    "    class_mode = 'binary'\n",
    ")\n",
    "\n",
    "test_datagen = ImageDataGenerator(rescale = 1./255)\n",
    "\n",
    "test_set = test_datagen.flow_from_directory(\n",
    "    'image_dataset/test_set',\n",
    "    target_size = (64, 64),\n",
    "    batch_size = 32,\n",
    "    class_mode = 'binary'\n",
    ")\n"
   ]
  },
  {
   "cell_type": "code",
   "execution_count": 9,
   "metadata": {},
   "outputs": [
    {
     "name": "stdout",
     "output_type": "stream",
     "text": [
      "Model: \"sequential_2\"\n",
      "_________________________________________________________________\n",
      " Layer (type)                Output Shape              Param #   \n",
      "=================================================================\n",
      " conv2d_3 (Conv2D)           (None, 62, 62, 32)        896       \n",
      "                                                                 \n",
      " max_pooling2d_2 (MaxPooling  (None, 31, 31, 32)       0         \n",
      " 2D)                                                             \n",
      "                                                                 \n",
      " conv2d_4 (Conv2D)           (None, 29, 29, 32)        9248      \n",
      "                                                                 \n",
      " max_pooling2d_3 (MaxPooling  (None, 14, 14, 32)       0         \n",
      " 2D)                                                             \n",
      "                                                                 \n",
      " flatten_1 (Flatten)         (None, 6272)              0         \n",
      "                                                                 \n",
      " dense_2 (Dense)             (None, 128)               802944    \n",
      "                                                                 \n",
      " dense_3 (Dense)             (None, 1)                 129       \n",
      "                                                                 \n",
      "=================================================================\n",
      "Total params: 813,217\n",
      "Trainable params: 813,217\n",
      "Non-trainable params: 0\n",
      "_________________________________________________________________\n"
     ]
    }
   ],
   "source": [
    "# Step 2 Membangun Model CNN\n",
    "\n",
    "# Inisialisasi CNN\n",
    "import keras\n",
    "\n",
    "cnn = keras.models.Sequential()  # Inisiasi\n",
    "cnn.add(keras.layers.Conv2D(filters=32, kernel_size=3, activation='relu', input_shape=[64, 64, 3]))  # 1st Convolutional Layer\n",
    "# filters : jumlah feature map yang dihasilkan (biasanya 32)\n",
    "# kernel_size : ukuran filter, dinyatakan dalam nxn matrix (biasanya 3x3)\n",
    "# activation : fungsi aktivasi yang digunakan (biasanya relu)\n",
    "# input_shape : ukuran gambar yang diinputkan ke CNN, dinyatakan dalam pxpxc matrix (biasanya 64x64x3)\n",
    "\n",
    "cnn.add(keras.layers.MaxPool2D(pool_size=2, strides=2))  # 1st Pooling Layer\n",
    "# pool_size : ukuran filter pooling, dinyatakan dalam nxn matrix (biasanya 2x2)\n",
    "# strides : langkah yang digunakan filter pooling untuk bergerak (biasanya 2)\n",
    "\n",
    "cnn.add(keras.layers.Conv2D(filters=32, kernel_size=3, activation='relu'))  # 2nd Convolutional Layer\n",
    "cnn.add(keras.layers.MaxPool2D(pool_size=2, strides=2))  # 2nd Pooling Layer\n",
    "cnn.add(keras.layers.Flatten())  # Flatten Layer\n",
    "cnn.add(keras.layers.Dense(units=128, activation='relu'))  # Fully Connected Layer/Hidden Layer\n",
    "# units : jumlah neuron dalam layer (biasanya 128)\n",
    "# activation : fungsi aktivasi yang digunakan (biasanya relu)\n",
    "cnn.add(keras.layers.Dense(units=1, activation='sigmoid'))  # Output Layer\n",
    "# units : jumlah neuron dalam layer, tergantung pada jumlah kelas yang dihasilkan (binary classification = 1)\n",
    "\n",
    "cnn.summary()"
   ]
  },
  {
   "cell_type": "code",
   "execution_count": 10,
   "metadata": {},
   "outputs": [
    {
     "name": "stdout",
     "output_type": "stream",
     "text": [
      "Epoch 1/25\n",
      "250/250 [==============================] - 122s 486ms/step - loss: 0.6560 - accuracy: 0.6015 - val_loss: 0.6167 - val_accuracy: 0.6695\n",
      "Epoch 2/25\n",
      "250/250 [==============================] - 96s 384ms/step - loss: 0.5910 - accuracy: 0.6891 - val_loss: 0.5484 - val_accuracy: 0.7240\n",
      "Epoch 3/25\n",
      "250/250 [==============================] - 48s 190ms/step - loss: 0.5435 - accuracy: 0.7219 - val_loss: 0.5167 - val_accuracy: 0.7500\n",
      "Epoch 4/25\n",
      "250/250 [==============================] - 50s 200ms/step - loss: 0.5103 - accuracy: 0.7449 - val_loss: 0.5791 - val_accuracy: 0.7210\n",
      "Epoch 5/25\n",
      "250/250 [==============================] - 55s 218ms/step - loss: 0.4863 - accuracy: 0.7644 - val_loss: 0.4879 - val_accuracy: 0.7695\n",
      "Epoch 6/25\n",
      "250/250 [==============================] - 51s 203ms/step - loss: 0.4676 - accuracy: 0.7741 - val_loss: 0.4632 - val_accuracy: 0.7860\n",
      "Epoch 7/25\n",
      "250/250 [==============================] - 53s 214ms/step - loss: 0.4473 - accuracy: 0.7884 - val_loss: 0.4963 - val_accuracy: 0.7630\n",
      "Epoch 8/25\n",
      "250/250 [==============================] - 50s 202ms/step - loss: 0.4389 - accuracy: 0.7941 - val_loss: 0.5097 - val_accuracy: 0.7610\n",
      "Epoch 9/25\n",
      "250/250 [==============================] - 62s 249ms/step - loss: 0.4308 - accuracy: 0.7979 - val_loss: 0.4334 - val_accuracy: 0.8085\n",
      "Epoch 10/25\n",
      "250/250 [==============================] - 57s 228ms/step - loss: 0.4096 - accuracy: 0.8080 - val_loss: 0.4617 - val_accuracy: 0.7780\n",
      "Epoch 11/25\n",
      "250/250 [==============================] - 53s 211ms/step - loss: 0.4020 - accuracy: 0.8163 - val_loss: 0.4604 - val_accuracy: 0.8000\n",
      "Epoch 12/25\n",
      "250/250 [==============================] - 64s 256ms/step - loss: 0.3789 - accuracy: 0.8300 - val_loss: 0.4492 - val_accuracy: 0.8120\n",
      "Epoch 13/25\n",
      "250/250 [==============================] - 47s 189ms/step - loss: 0.3708 - accuracy: 0.8349 - val_loss: 0.4714 - val_accuracy: 0.7895\n",
      "Epoch 14/25\n",
      "250/250 [==============================] - 50s 199ms/step - loss: 0.3521 - accuracy: 0.8415 - val_loss: 0.4731 - val_accuracy: 0.7890\n",
      "Epoch 15/25\n",
      "250/250 [==============================] - 62s 248ms/step - loss: 0.3551 - accuracy: 0.8431 - val_loss: 0.4609 - val_accuracy: 0.8055\n",
      "Epoch 16/25\n",
      "250/250 [==============================] - 56s 225ms/step - loss: 0.3290 - accuracy: 0.8583 - val_loss: 0.4603 - val_accuracy: 0.8070\n",
      "Epoch 17/25\n",
      "250/250 [==============================] - 54s 214ms/step - loss: 0.3134 - accuracy: 0.8668 - val_loss: 0.5083 - val_accuracy: 0.7955\n",
      "Epoch 18/25\n",
      "250/250 [==============================] - 48s 191ms/step - loss: 0.2990 - accuracy: 0.8714 - val_loss: 0.4960 - val_accuracy: 0.8065\n",
      "Epoch 19/25\n",
      "250/250 [==============================] - 51s 203ms/step - loss: 0.2890 - accuracy: 0.8750 - val_loss: 0.4520 - val_accuracy: 0.8175\n",
      "Epoch 20/25\n",
      "250/250 [==============================] - 61s 245ms/step - loss: 0.2773 - accuracy: 0.8825 - val_loss: 0.4752 - val_accuracy: 0.8115\n",
      "Epoch 21/25\n",
      "250/250 [==============================] - 47s 186ms/step - loss: 0.2629 - accuracy: 0.8890 - val_loss: 0.4795 - val_accuracy: 0.8120\n",
      "Epoch 22/25\n",
      "250/250 [==============================] - 47s 186ms/step - loss: 0.2513 - accuracy: 0.8963 - val_loss: 0.4810 - val_accuracy: 0.8080\n",
      "Epoch 23/25\n",
      "250/250 [==============================] - 51s 206ms/step - loss: 0.2371 - accuracy: 0.9031 - val_loss: 0.4997 - val_accuracy: 0.8125\n",
      "Epoch 24/25\n",
      "250/250 [==============================] - 80s 320ms/step - loss: 0.2389 - accuracy: 0.9034 - val_loss: 0.4795 - val_accuracy: 0.8255\n",
      "Epoch 25/25\n",
      "250/250 [==============================] - 51s 204ms/step - loss: 0.2144 - accuracy: 0.9100 - val_loss: 0.5577 - val_accuracy: 0.8055\n"
     ]
    },
    {
     "data": {
      "text/plain": [
       "<keras.callbacks.History at 0x1f3d67891f0>"
      ]
     },
     "execution_count": 10,
     "metadata": {},
     "output_type": "execute_result"
    }
   ],
   "source": [
    "# Step 3 Training Model CNN\n",
    "\n",
    "# Compiling CNN\n",
    "\n",
    "cnn.compile(optimizer = 'adam', loss = 'binary_crossentropy', metrics = ['accuracy'])\n",
    "# optimizer : algoritma yang digunakan untuk mengoptimalkan model (biasanya adam)\n",
    "# loss : fungsi loss yang digunakan (binary classification = binary_crossentropy)\n",
    "# metrics : metrik yang digunakan untuk mengevaluasi model (biasanya accuracy)\n",
    "\n",
    "# Training CNN\n",
    "cnn.fit(x = training_set, validation_data = test_set, epochs = 25)\n",
    "# x : data training (ImageDataGenerator object yang sudah memiliki diisi dengan direktori)\n",
    "# validation_data : data test (ImageDataGenerator object yang sudah memiliki diisi dengan direktori)\n",
    "# epochs : jumlah iterasi training"
   ]
  },
  {
   "cell_type": "code",
   "execution_count": null,
   "metadata": {},
   "outputs": [],
   "source": [
    "# Step 4 Membuat Prediksi\n",
    "\n",
    "from keras.preprocessing import image\n",
    "import numpy as np\n",
    "\n",
    "test_image = image.load_img('dataset/testing/cat_or_dog_1.jpg', target_size = (64, 64)) # Single image loader\n",
    "test_image = image.img_to_array(test_image) # Convert image to array\n",
    "# model menerima input berupa array, maka perlu diubah dari image ke array\n",
    "# model menerima input array 3D 64x64x32, 64x64 adalah ukuran gambar, 32 adalah jumlah batch\n",
    "# oleh karena itu, input untuk prediksi perlu diekspan menjadi 3D\n",
    "\n",
    "test_image = np.expand_dims(test_image, axis = 0) # Expand dimension\n",
    "\n",
    "result = cnn.predict(test_image)\n",
    "\n",
    "training_set.class_indices\n",
    "\n",
    "# printing results\n",
    "if result[0][0] == 1:\n",
    "    prediction = 'dog'\n",
    "else:\n",
    "    prediction = 'cat'\n",
    "\n",
    "print(prediction)"
   ]
  }
 ],
 "metadata": {
  "kernelspec": {
   "display_name": "Py8",
   "language": "python",
   "name": "python3"
  },
  "language_info": {
   "codemirror_mode": {
    "name": "ipython",
    "version": 3
   },
   "file_extension": ".py",
   "mimetype": "text/x-python",
   "name": "python",
   "nbconvert_exporter": "python",
   "pygments_lexer": "ipython3",
   "version": "3.8.18"
  }
 },
 "nbformat": 4,
 "nbformat_minor": 2
}
