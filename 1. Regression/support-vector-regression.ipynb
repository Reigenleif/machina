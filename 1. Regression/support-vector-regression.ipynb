{
 "cells": [
  {
   "cell_type": "code",
   "execution_count": 41,
   "metadata": {},
   "outputs": [],
   "source": [
    "import numpy as np\n",
    "import pandas as pd\n",
    "import matplotlib.pyplot as plt\n",
    "from sklearn.impute import SimpleImputer\n",
    "from sklearn.compose import ColumnTransformer\n",
    "from sklearn.preprocessing import OneHotEncoder, StandardScaler, LabelEncoder\n",
    "from sklearn.model_selection import train_test_split"
   ]
  },
  {
   "cell_type": "code",
   "execution_count": 42,
   "metadata": {},
   "outputs": [],
   "source": [
    "df = pd.read_csv('Position_Salaries.csv')\n",
    "x = df.iloc[:,1:-1].values\n",
    "y = df.iloc[:,-1].values\n",
    "\n",
    "# reshape y to 2D array\n",
    "y = y.reshape(len(y),1)\n",
    "\n",
    "# Feature Scaling\n",
    "# dalam SVR, perlu dilakukan feature scaling terhadap seluruh variabel (dependent & independent) karena skala masing-masing data haruslah sama\n",
    "# feature scaling yang dilakukan adalah standardization\n",
    "sc_x,sc_y = StandardScaler(), StandardScaler()\n",
    "x = sc_x.fit_transform(x) \n",
    "y = sc_y.fit_transform(y) "
   ]
  },
  {
   "cell_type": "code",
   "execution_count": 43,
   "metadata": {},
   "outputs": [
    {
     "name": "stdout",
     "output_type": "stream",
     "text": [
      "[[170370.0204065]]\n"
     ]
    },
    {
     "name": "stderr",
     "output_type": "stream",
     "text": [
      "c:\\Users\\Alif\\anaconda3\\lib\\site-packages\\sklearn\\utils\\validation.py:63: DataConversionWarning: A column-vector y was passed when a 1d array was expected. Please change the shape of y to (n_samples, ), for example using ravel().\n",
      "  return f(*args, **kwargs)\n"
     ]
    }
   ],
   "source": [
    "# Build SVR Model\n",
    "from sklearn.svm import SVR\n",
    "regressor = SVR(kernel='rbf')\n",
    "regressor.fit(x,y)\n",
    "\n",
    "# Predict new result\n",
    "# karena data yang akan diprediksi berupa data baru, maka perlu dilakukan feature scaling terhadap data tersebut\n",
    "# lalu, hasil prediksi yang didapatkan perlu di inverse transform agar kembali ke bentuk aslinya\n",
    "print(sc_y.inverse_transform(regressor.predict(sc_x.transform([[6.5]])).reshape(1,-1)))"
   ]
  },
  {
   "cell_type": "code",
   "execution_count": 44,
   "metadata": {},
   "outputs": [
    {
     "data": {
      "image/png": "[encoded data removed]",
      "text/plain": [
       "<Figure size 432x288 with 1 Axes>"
      ]
     },
     "metadata": {
      "needs_background": "light"
     },
     "output_type": "display_data"
    }
   ],
   "source": [
    "# Visualize SVR result\n",
    "x_smooth = np.arange(min(x),max(x),0.1).reshape(-1,1)\n",
    "\n",
    "# karena data yang akan divisualisasikan berupa data asli, maka perlu dilakukan inverse transform terhadap data tersebut\n",
    "plt.scatter(sc_x.inverse_transform(x),sc_y.inverse_transform(y),color='red')\n",
    "plt.plot(sc_x.inverse_transform(x_smooth),sc_y.inverse_transform(regressor.predict(x_smooth)),color='blue')\n",
    "plt.title('SVR Result')\n",
    "plt.xlabel('Level')\n",
    "plt.ylabel('Salary')\n",
    "plt.show()"
   ]
  }
 ],
 "metadata": {
  "kernelspec": {
   "display_name": "base",
   "language": "python",
   "name": "python3"
  },
  "language_info": {
   "codemirror_mode": {
    "name": "ipython",
    "version": 3
   },
   "file_extension": ".py",
   "mimetype": "text/x-python",
   "name": "python",
   "nbconvert_exporter": "python",
   "pygments_lexer": "ipython3",
   "version": "3.8.8"
  },
  "orig_nbformat": 4
 },
 "nbformat": 4,
 "nbformat_minor": 2
}
