{
 "cells": [
  {
   "cell_type": "code",
   "execution_count": 14,
   "metadata": {},
   "outputs": [],
   "source": [
    "import numpy as np\n",
    "import pandas as pd\n",
    "import matplotlib.pyplot as plt\n",
    "from sklearn.preprocessing import StandardScaler\n",
    "from sklearn.model_selection import train_test_split"
   ]
  },
  {
   "cell_type": "code",
   "execution_count": 15,
   "metadata": {},
   "outputs": [],
   "source": [
    "# Data Preprocessing\n",
    "dataset = pd.read_csv('Data.csv')\n",
    "X = dataset.iloc[:, 1:-1].values\n",
    "y = dataset.iloc[:, -1].values\n",
    "\n",
    "# Encoding dependent variable\n",
    "from sklearn.preprocessing import LabelEncoder\n",
    "le = LabelEncoder()\n",
    "y = le.fit_transform(y)\n",
    "\n",
    "# Splitting the dataset into training and test set\n",
    "X_train, X_test, y_train, y_test = train_test_split(X, y, test_size=0.2)\n",
    "\n",
    "# Feature Scaling\n",
    "from sklearn.preprocessing import StandardScaler\n",
    "sc = StandardScaler()\n",
    "X_train = sc.fit_transform(X_train)\n",
    "X_test = sc.transform(X_test)\n"
   ]
  },
  {
   "cell_type": "code",
   "execution_count": 16,
   "metadata": {},
   "outputs": [
    {
     "data": {
      "text/plain": [
       "RandomForestClassifier(criterion='entropy', n_estimators=10, random_state=0)"
      ]
     },
     "execution_count": 16,
     "metadata": {},
     "output_type": "execute_result"
    }
   ],
   "source": [
    "# Traning the classification model on the training set\n",
    "\n",
    "# Logistic Regression\n",
    "from sklearn.linear_model import LogisticRegression\n",
    "log_classifier = LogisticRegression(random_state=0)\n",
    "log_classifier.fit(X_train, y_train)\n",
    "\n",
    "# Euclidean KNN\n",
    "from sklearn.neighbors import KNeighborsClassifier\n",
    "euc_knn_classifier = KNeighborsClassifier(n_neighbors=5, metric='minkowski', p=2)\n",
    "euc_knn_classifier.fit(X_train, y_train)\n",
    "\n",
    "# Manhattan KNN\n",
    "man_knn_classifier = KNeighborsClassifier(n_neighbors=5, metric='minkowski', p=1)\n",
    "man_knn_classifier.fit(X_train, y_train)\n",
    "\n",
    "# Chebyshev KNN\n",
    "che_knn_classifier = KNeighborsClassifier(n_neighbors=5, metric='minkowski', p=float('inf'))\n",
    "che_knn_classifier.fit(X_train, y_train)\n",
    "\n",
    "# linear SVM\n",
    "from sklearn.svm import SVC\n",
    "lin_svm_classifier = SVC(kernel='linear', random_state=0)\n",
    "lin_svm_classifier.fit(X_train, y_train)\n",
    "\n",
    "# RBF SVM\n",
    "rbf_svm_classifier = SVC(kernel='rbf', random_state=0)\n",
    "rbf_svm_classifier.fit(X_train, y_train)\n",
    "\n",
    "# polynomial SVM\n",
    "poly_svm_classifier = SVC(kernel='poly', random_state=0)\n",
    "poly_svm_classifier.fit(X_train, y_train)\n",
    "\n",
    "# sigmoid SVM\n",
    "sigmoid_svm_classifier = SVC(kernel='sigmoid', random_state=0)\n",
    "sigmoid_svm_classifier.fit(X_train, y_train)\n",
    "\n",
    "# Naive Bayes\n",
    "from sklearn.naive_bayes import GaussianNB\n",
    "nb_classifier = GaussianNB()\n",
    "nb_classifier.fit(X_train, y_train)\n",
    "\n",
    "# Decision Tree\n",
    "from sklearn.tree import DecisionTreeClassifier\n",
    "dt_classifier = DecisionTreeClassifier(criterion='entropy', random_state=0)\n",
    "dt_classifier.fit(X_train, y_train)\n",
    "\n",
    "# Random Forest\n",
    "from sklearn.ensemble import RandomForestClassifier\n",
    "rf_classifier = RandomForestClassifier(n_estimators=10, criterion='entropy', random_state=0)\n",
    "rf_classifier.fit(X_train, y_train)"
   ]
  },
  {
   "cell_type": "code",
   "execution_count": 17,
   "metadata": {},
   "outputs": [
    {
     "name": "stdout",
     "output_type": "stream",
     "text": [
      "Accuracy of the models :\n",
      "Logistic          :  0.9562043795620438\n",
      "Euclidean KNN     :  0.948905109489051\n",
      "Manhattan KNN     :  0.9562043795620438\n",
      "Chebyshev KNN     :  0.948905109489051\n",
      "Linear SVM        :  0.9635036496350365\n",
      "RBF SVM           :  0.9562043795620438\n",
      "Polynomial SVM    :  0.9562043795620438\n",
      "Sigmoid SVM       :  0.948905109489051\n",
      "Naive Bayes       :  0.948905109489051\n",
      "Decision Tree     :  0.9708029197080292\n",
      "Random Forest     :  0.9708029197080292\n"
     ]
    }
   ],
   "source": [
    "# Evaluating Model Performances on the test set\n",
    "\n",
    "log_accuracy = log_classifier.score(X_test, y_test)\n",
    "euc_knn_accuracy = euc_knn_classifier.score(X_test, y_test)\n",
    "man_knn_accuracy = man_knn_classifier.score(X_test, y_test)\n",
    "che_knn_accuracy = che_knn_classifier.score(X_test, y_test)\n",
    "lin_svm_accuracy = lin_svm_classifier.score(X_test, y_test)\n",
    "rbf_svm_accuracy = rbf_svm_classifier.score(X_test, y_test)\n",
    "poly_svm_accuracy = poly_svm_classifier.score(X_test, y_test)\n",
    "sigmoid_svm_accuracy = sigmoid_svm_classifier.score(X_test, y_test)\n",
    "nb_accuracy = nb_classifier.score(X_test, y_test)\n",
    "dt_accuracy = dt_classifier.score(X_test, y_test)\n",
    "rf_accuracy = rf_classifier.score(X_test, y_test)\n",
    "\n",
    "print('Accuracy of the models :')\n",
    "print('Logistic          : ',log_accuracy)\n",
    "print('Euclidean KNN     : ',euc_knn_accuracy)\n",
    "print('Manhattan KNN     : ',man_knn_accuracy)\n",
    "print('Chebyshev KNN     : ',che_knn_accuracy)\n",
    "print('Linear SVM        : ',lin_svm_accuracy)\n",
    "print('RBF SVM           : ',rbf_svm_accuracy)\n",
    "print('Polynomial SVM    : ',poly_svm_accuracy)\n",
    "print('Sigmoid SVM       : ',sigmoid_svm_accuracy)\n",
    "print('Naive Bayes       : ',nb_accuracy)\n",
    "print('Decision Tree     : ',dt_accuracy)\n",
    "print('Random Forest     : ',rf_accuracy)"
   ]
  },
  {
   "cell_type": "code",
   "execution_count": null,
   "metadata": {},
   "outputs": [],
   "source": [
    "# Creating confusion matrix\n",
    "from sklearn.metrics import confusion_matrix, accuracy_score\n",
    "log_y_pred = log_classifier.predict(X_test)\n",
    "euc_knn_y_pred = euc_knn_classifier.predict(X_test)\n",
    "man_knn_y_pred = man_knn_classifier.predict(X_test)\n",
    "che_knn_y_pred = che_knn_classifier.predict(X_test)\n",
    "lin_svm_y_pred = lin_svm_classifier.predict(X_test)\n",
    "rbf_svm_y_pred = rbf_svm_classifier.predict(X_test)\n",
    "poly_svm_y_pred = poly_svm_classifier.predict(X_test)\n",
    "sigmoid_svm_y_pred = sigmoid_svm_classifier.predict(X_test)\n",
    "nb_y_pred = nb_classifier.predict(X_test)\n",
    "dt_y_pred = dt_classifier.predict(X_test)\n",
    "rf_y_pred = rf_classifier.predict(X_test)\n",
    "\n"
   ]
  }
 ],
 "metadata": {
  "kernelspec": {
   "display_name": "base",
   "language": "python",
   "name": "python3"
  },
  "language_info": {
   "codemirror_mode": {
    "name": "ipython",
    "version": 3
   },
   "file_extension": ".py",
   "mimetype": "text/x-python",
   "name": "python",
   "nbconvert_exporter": "python",
   "pygments_lexer": "ipython3",
   "version": "3.8.8"
  },
  "orig_nbformat": 4
 },
 "nbformat": 4,
 "nbformat_minor": 2
}
