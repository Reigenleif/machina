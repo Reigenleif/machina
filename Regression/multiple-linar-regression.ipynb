{
 "cells": [
  {
   "cell_type": "code",
   "execution_count": 25,
   "metadata": {},
   "outputs": [],
   "source": [
    "import numpy as np\n",
    "import pandas as pd\n",
    "import matplotlib.pyplot as plt\n",
    "from sklearn.impute import SimpleImputer\n",
    "from sklearn.compose import ColumnTransformer\n",
    "from sklearn.preprocessing import OneHotEncoder, StandardScaler, LabelEncoder\n",
    "from sklearn.model_selection import train_test_split"
   ]
  },
  {
   "cell_type": "code",
   "execution_count": 26,
   "metadata": {},
   "outputs": [],
   "source": [
    "df = pd.read_csv('50_Startups.csv')\n",
    "x = df.iloc[:,:-1].values\n",
    "y = df.iloc[:,4].values\n",
    "\n",
    "# Taking care of missing data\n",
    "imputer = SimpleImputer(missing_values=np.nan, strategy='mean')\n",
    "imputer.fit(x[:,1:3])\n",
    "x[:,1:3] = imputer.transform(x[:,1:3]) \n",
    "\n",
    "# Encoding categorical data\n",
    "ct  = ColumnTransformer(transformers=[('encoder',OneHotEncoder(),[3])],remainder='passthrough')\n",
    "x = np.array(ct.fit_transform(x))\n",
    "\n",
    "# Splitting the dataset into the Training set and Test set\n",
    "x_train, x_test, y_train, y_test = train_test_split(x,y,test_size=0.2,random_state=1,shuffle=True)"
   ]
  },
  {
   "cell_type": "code",
   "execution_count": 27,
   "metadata": {},
   "outputs": [
    {
     "name": "stdout",
     "output_type": "stream",
     "text": [
      "[[114664.42 105008.31]\n",
      " [ 90593.16  96479.51]\n",
      " [ 75692.84  78239.91]\n",
      " [ 70221.89  81229.06]\n",
      " [179790.26 191050.39]\n",
      " [171576.92 182901.99]\n",
      " [ 49753.59  35673.41]\n",
      " [102276.66 101004.64]\n",
      " [ 58649.38  49490.75]\n",
      " [ 98272.03  97483.56]]\n",
      "[-2.85e+02  2.98e+02 -1.24e+01  7.74e-01 -9.44e-03  2.89e-02]\n",
      "49834.885073226884\n"
     ]
    }
   ],
   "source": [
    "# Dengan sklearn, tahap-tahap seperti pengecekan asumsi, model selection, dll. tidak perlu dilakukan secara manual\n",
    "# Karena sudah dihandle oleh librarynya.\n",
    "# Tahapan MLR dengan sklearn sama seperti SLR\n",
    "\n",
    "# Fitting Multiple Linear Regression to the Training set\n",
    "from sklearn.linear_model import LinearRegression\n",
    "regressor = LinearRegression()\n",
    "regressor.fit(x_train, y_train)\n",
    "\n",
    "# Predicting the Test set results\n",
    "y_pred = regressor.predict(x_test)\n",
    "\n",
    "# np.set_printoptions adalah fungsi untuk mengatur tampilan output, precision=2 adalah jumlah angka di belakang koma\n",
    "np.set_printoptions(precision=2)\n",
    "\n",
    "# Menampilkan hasil prediksi dan nilai aktual\n",
    "# np.concatenate adalah fungsi untuk menggabungkan array, axis=1 adalah menggabungkan secara horizontal\n",
    "# reshape(len(y_pred),1) adalah mengubah bentuk vektor baris menjadi vektor kolom\n",
    "# output dari fungsi dibawah adalah array berisi elemen yang terdiri dari nilai prediksi (y-hat) dan nilai aktual (y)\n",
    "print(np.concatenate((y_pred.reshape(len(y_pred),1),y_test.reshape(len(y_test),1)),1))\n",
    "\n",
    "# Menampilkan koefisien dan intercept\n",
    "print(regressor.coef_)\n",
    "print(regressor.intercept_)"
   ]
  }
 ],
 "metadata": {
  "kernelspec": {
   "display_name": "base",
   "language": "python",
   "name": "python3"
  },
  "language_info": {
   "codemirror_mode": {
    "name": "ipython",
    "version": 3
   },
   "file_extension": ".py",
   "mimetype": "text/x-python",
   "name": "python",
   "nbconvert_exporter": "python",
   "pygments_lexer": "ipython3",
   "version": "3.8.8"
  },
  "orig_nbformat": 4
 },
 "nbformat": 4,
 "nbformat_minor": 2
}
